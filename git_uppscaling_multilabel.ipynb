{
  "nbformat": 4,
  "nbformat_minor": 0,
  "metadata": {
    "colab": {
      "provenance": [],
      "machine_shape": "hm",
      "gpuType": "T4"
    },
    "kernelspec": {
      "name": "python3",
      "display_name": "Python 3"
    },
    "language_info": {
      "name": "python"
    },
    "accelerator": "GPU"
  },
  "cells": [
    {
      "cell_type": "code",
      "execution_count": 1,
      "metadata": {
        "id": "yX4mtuWAhs5A"
      },
      "outputs": [],
      "source": [
        "import pandas as pd\n",
        "from sklearn.preprocessing import MultiLabelBinarizer\n",
        "import numpy as np"
      ]
    },
    {
      "cell_type": "code",
      "source": [
        "from google.colab import files\n",
        "uploaded=files.upload()"
      ],
      "metadata": {
        "id": "DGcRnYhOc_af"
      },
      "execution_count": null,
      "outputs": []
    },
    {
      "cell_type": "code",
      "source": [
        "df1=pd.read_excel(\"1.xlsx\")\n",
        "df2=pd.read_excel(\"2.xlsx\")\n",
        "df3=pd.read_excel(\"3.xlsx\")"
      ],
      "metadata": {
        "id": "xSGAF6-sdVNP"
      },
      "execution_count": 3,
      "outputs": []
    },
    {
      "cell_type": "code",
      "source": [
        "df = pd.concat([df1, df2, df3], ignore_index=True)\n"
      ],
      "metadata": {
        "id": "XD2OpdJugAx5"
      },
      "execution_count": 4,
      "outputs": []
    },
    {
      "cell_type": "code",
      "execution_count": 5,
      "metadata": {
        "id": "vk73sRhxhs5A"
      },
      "outputs": [],
      "source": [
        "df = df[[\"questionText\", \"category_type\", \"answer\", \"categoriesParent\"]]\n",
        "df = df.apply(lambda col: col.str.strip() if col.dtype == \"object\" else col)\n",
        "df['labels'] = df['categoriesParent'].apply(lambda x: [c.strip() for c in x.split(',')])"
      ]
    },
    {
      "cell_type": "code",
      "source": [
        "df.drop(columns=['categoriesParent'], inplace=True)"
      ],
      "metadata": {
        "id": "hOYbxuILIQvn"
      },
      "execution_count": 6,
      "outputs": []
    },
    {
      "cell_type": "code",
      "source": [
        "df = df.dropna(subset=[\"questionText\", \"category_type\", \"answer\"])\n",
        "\n",
        "# Optionally, reset the index after dropping rows (if needed)\n",
        "df = df.reset_index(drop=True)"
      ],
      "metadata": {
        "id": "of0qmcjAwUQP"
      },
      "execution_count": 7,
      "outputs": []
    },
    {
      "cell_type": "code",
      "source": [
        "df.head()"
      ],
      "metadata": {
        "id": "ot6qDithgGkN"
      },
      "execution_count": null,
      "outputs": []
    },
    {
      "cell_type": "code",
      "source": [
        "# Initialize the encoder\n",
        "mlb = MultiLabelBinarizer()\n",
        "\n",
        "# Fit and transform the categories to boolean values\n",
        "encoded = mlb.fit_transform(df['labels'])\n",
        "\n",
        "# Create a new DataFrame with the encoded categories\n",
        "encoded_df = pd.DataFrame(encoded, columns=mlb.classes_, index=df.index)\n",
        "\n",
        "# Concatenate with the original DataFrame (excluding 'categories' column)\n",
        "df_encoded = pd.concat([df.drop('labels', axis=1), encoded_df], axis=1)"
      ],
      "metadata": {
        "id": "nyGSMZXDFk89"
      },
      "execution_count": 9,
      "outputs": []
    },
    {
      "cell_type": "code",
      "source": [
        "df=df_encoded"
      ],
      "metadata": {
        "id": "Fpt_vay0GHh4"
      },
      "execution_count": 10,
      "outputs": []
    },
    {
      "cell_type": "code",
      "source": [
        "y = df.drop(columns=[\"questionText\", \"category_type\", \"answer\"])"
      ],
      "metadata": {
        "id": "1G5VL81Tx1i8"
      },
      "execution_count": 11,
      "outputs": []
    },
    {
      "cell_type": "code",
      "source": [
        "minority_columns = y.sum()\n",
        "below_300 = minority_columns[minority_columns < 300].index.tolist()\n",
        "\n",
        "print(below_300)\n"
      ],
      "metadata": {
        "id": "K6wy8i5aH2rI"
      },
      "execution_count": null,
      "outputs": []
    },
    {
      "cell_type": "code",
      "source": [
        "from sklearn.utils import resample\n",
        "import pandas as pd\n",
        "\n",
        "def collect_and_pad_positive_rows(df, columns, target_n=300):\n",
        "    \"\"\"\n",
        "    Collects all rows where each column == 1, and upscales to target_n rows per column.\n",
        "\n",
        "    Args:\n",
        "        df (pd.DataFrame): The full dataset\n",
        "        columns (list): List of binary column names to check (e.g., [\"x\", \"y\"])\n",
        "        target_n (int): Minimum number of rows to keep per class\n",
        "\n",
        "    Returns:\n",
        "        dict: Dictionary with keys = column names and values = padded DataFrames\n",
        "    \"\"\"\n",
        "    results = {}\n",
        "\n",
        "    for col in columns:\n",
        "        subset = df[df[col] == 1].copy()\n",
        "        n_rows = len(subset)\n",
        "\n",
        "        if n_rows < target_n:\n",
        "            # Upsample with replacement\n",
        "            subset = resample(\n",
        "                subset,\n",
        "                replace=True,\n",
        "                n_samples=target_n,\n",
        "                random_state=42\n",
        "            )\n",
        "\n",
        "        results[col] = subset\n",
        "\n",
        "    return results\n"
      ],
      "metadata": {
        "id": "W_T5DBOHULQx"
      },
      "execution_count": 13,
      "outputs": []
    },
    {
      "cell_type": "code",
      "source": [
        "columns_to_check = below_300\n",
        "my_result = collect_and_pad_positive_rows(df, columns_to_check, target_n=300)\n"
      ],
      "metadata": {
        "id": "I_7U6WvZUtTe"
      },
      "execution_count": 14,
      "outputs": []
    },
    {
      "cell_type": "code",
      "source": [
        "for col, df_upsampled in my_result.items():\n",
        "    count = df_upsampled[col].sum()\n",
        "    total = len(df_upsampled)\n",
        "    print(f\"{col}: total rows = {total}, positive labels = {count}\")\n"
      ],
      "metadata": {
        "id": "AegRxIV8Jcry"
      },
      "execution_count": null,
      "outputs": []
    },
    {
      "cell_type": "code",
      "source": [
        "# Combine all upsampled DataFrames from your dict\n",
        "padded_df = pd.concat(my_result.values()).reset_index(drop=True)\n"
      ],
      "metadata": {
        "id": "3scvZagALrf6"
      },
      "execution_count": 16,
      "outputs": []
    },
    {
      "cell_type": "code",
      "source": [
        "# 1. Remove original minority rows\n",
        "df_filtered = df.copy()\n",
        "for col in columns_to_check:\n",
        "    df_filtered = df_filtered[df_filtered[col] != 1]\n",
        "\n",
        "# 2. Combine the filtered df with the upsampled data\n",
        "df_combined = pd.concat([df_filtered, padded_df]).reset_index(drop=True)\n"
      ],
      "metadata": {
        "id": "SQDV0mooVHqW"
      },
      "execution_count": 17,
      "outputs": []
    },
    {
      "cell_type": "code",
      "source": [
        "df_combined[below_300].sum().sort_values()\n"
      ],
      "metadata": {
        "id": "nCDgUEzYJ-jJ"
      },
      "execution_count": null,
      "outputs": []
    },
    {
      "cell_type": "code",
      "source": [
        "from google.colab import files\n",
        "\n",
        "df_combined.to_csv(\"df_combined.csv\", index=False)\n",
        "files.download(\"df_combined.csv\")\n"
      ],
      "metadata": {
        "colab": {
          "base_uri": "https://localhost:8080/",
          "height": 17
        },
        "id": "FZmyyfJ3Lz1-",
        "outputId": "8a31aedf-15c1-49fc-a223-8d22a99a67a0",
        "collapsed": true
      },
      "execution_count": null,
      "outputs": [
        {
          "output_type": "display_data",
          "data": {
            "text/plain": [
              "<IPython.core.display.Javascript object>"
            ],
            "application/javascript": [
              "\n",
              "    async function download(id, filename, size) {\n",
              "      if (!google.colab.kernel.accessAllowed) {\n",
              "        return;\n",
              "      }\n",
              "      const div = document.createElement('div');\n",
              "      const label = document.createElement('label');\n",
              "      label.textContent = `Downloading \"${filename}\": `;\n",
              "      div.appendChild(label);\n",
              "      const progress = document.createElement('progress');\n",
              "      progress.max = size;\n",
              "      div.appendChild(progress);\n",
              "      document.body.appendChild(div);\n",
              "\n",
              "      const buffers = [];\n",
              "      let downloaded = 0;\n",
              "\n",
              "      const channel = await google.colab.kernel.comms.open(id);\n",
              "      // Send a message to notify the kernel that we're ready.\n",
              "      channel.send({})\n",
              "\n",
              "      for await (const message of channel.messages) {\n",
              "        // Send a message to notify the kernel that we're ready.\n",
              "        channel.send({})\n",
              "        if (message.buffers) {\n",
              "          for (const buffer of message.buffers) {\n",
              "            buffers.push(buffer);\n",
              "            downloaded += buffer.byteLength;\n",
              "            progress.value = downloaded;\n",
              "          }\n",
              "        }\n",
              "      }\n",
              "      const blob = new Blob(buffers, {type: 'application/binary'});\n",
              "      const a = document.createElement('a');\n",
              "      a.href = window.URL.createObjectURL(blob);\n",
              "      a.download = filename;\n",
              "      div.appendChild(a);\n",
              "      a.click();\n",
              "      div.remove();\n",
              "    }\n",
              "  "
            ]
          },
          "metadata": {}
        },
        {
          "output_type": "display_data",
          "data": {
            "text/plain": [
              "<IPython.core.display.Javascript object>"
            ],
            "application/javascript": [
              "download(\"download_325c0f0b-0177-44d9-b01c-ce3560eae47c\", \"df_combined.csv\", 22168060)"
            ]
          },
          "metadata": {}
        }
      ]
    }
  ]
}